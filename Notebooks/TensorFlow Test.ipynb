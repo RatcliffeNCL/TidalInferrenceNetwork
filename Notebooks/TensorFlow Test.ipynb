{
 "cells": [
  {
   "cell_type": "code",
   "execution_count": 2,
   "metadata": {},
   "outputs": [
    {
     "name": "stdout",
     "output_type": "stream",
     "text": [
      "[[4 6 8]\n",
      " [4 6 8]]\n"
     ]
    }
   ],
   "source": [
    "#This notebook is just to test the tensorflow install on the environment\n",
    "#Will probably make a new notebook for the real neural network\n",
    "\n",
    "import tensorflow as tf\n",
    "\n",
    "const1 = tf.constant([[1,2,3], [1,2,3]]);\n",
    "const2 = tf.constant([[3,4,5], [3,4,5]]);\n",
    "\n",
    "result = tf.add(const1, const2);\n",
    "\n",
    "with tf.Session() as sess:\n",
    "  output = sess.run(result)\n",
    "  print(output)"
   ]
  }
 ],
 "metadata": {
  "kernelspec": {
   "display_name": "Python 3 (ipykernel)",
   "language": "python",
   "name": "python3"
  },
  "language_info": {
   "codemirror_mode": {
    "name": "ipython",
    "version": 3
   },
   "file_extension": ".py",
   "mimetype": "text/x-python",
   "name": "python",
   "nbconvert_exporter": "python",
   "pygments_lexer": "ipython3",
   "version": "3.7.10"
  }
 },
 "nbformat": 4,
 "nbformat_minor": 4
}
