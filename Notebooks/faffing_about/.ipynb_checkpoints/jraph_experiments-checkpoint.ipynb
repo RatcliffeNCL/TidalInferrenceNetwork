{
 "cells": [
  {
   "cell_type": "markdown",
   "id": "27fd3680",
   "metadata": {},
   "source": [
    "<h1> Learning jraph </h1>\n",
    "<h2> All code copied from https://github.com/deepmind/jraph\n",
    "    <b>Do not track this file, not mine to upload</b>\n",
    "    </h2>\n",
    "  "
   ]
  },
  {
   "cell_type": "code",
   "execution_count": 13,
   "id": "46ecd238",
   "metadata": {},
   "outputs": [
    {
     "ename": "ModuleNotFoundError",
     "evalue": "No module named 'jraph.models'",
     "output_type": "error",
     "traceback": [
      "\u001b[0;31m---------------------------------------------------------------------------\u001b[0m",
      "\u001b[0;31mModuleNotFoundError\u001b[0m                       Traceback (most recent call last)",
      "\u001b[0;32m/tmp/ipykernel_7405/332627076.py\u001b[0m in \u001b[0;36m<module>\u001b[0;34m\u001b[0m\n\u001b[1;32m      1\u001b[0m \u001b[0;32mimport\u001b[0m \u001b[0mjraph\u001b[0m\u001b[0;34m\u001b[0m\u001b[0;34m\u001b[0m\u001b[0m\n\u001b[0;32m----> 2\u001b[0;31m \u001b[0;32mimport\u001b[0m \u001b[0mjraph\u001b[0m\u001b[0;34m.\u001b[0m\u001b[0mmodels\u001b[0m\u001b[0;34m\u001b[0m\u001b[0;34m\u001b[0m\u001b[0m\n\u001b[0m\u001b[1;32m      3\u001b[0m \u001b[0;32mimport\u001b[0m \u001b[0mjax\u001b[0m\u001b[0;34m.\u001b[0m\u001b[0mnumpy\u001b[0m \u001b[0;32mas\u001b[0m \u001b[0mjnp\u001b[0m\u001b[0;34m\u001b[0m\u001b[0;34m\u001b[0m\u001b[0m\n",
      "\u001b[0;31mModuleNotFoundError\u001b[0m: No module named 'jraph.models'"
     ]
    }
   ],
   "source": [
    "import jraph\n",
    "import jax.numpy as jnp"
   ]
  },
  {
   "cell_type": "code",
   "execution_count": 4,
   "id": "da8c050e",
   "metadata": {},
   "outputs": [
    {
     "name": "stderr",
     "output_type": "stream",
     "text": [
      "WARNING:absl:No GPU/TPU found, falling back to CPU. (Set TF_CPP_MIN_LOG_LEVEL=0 and rerun for more info.)\n"
     ]
    }
   ],
   "source": [
    "# Define a three node graph, each node has an integer as its feature.\n",
    "node_features = jnp.array([[0.],[1.],[2.]])\n",
    "\n",
    "# We will construct a graph for which there is a directed edge between each node\n",
    "# and its successor. We define this with `senders` (source nodes) and `receivers`\n",
    "# (destination nodes).\n",
    "senders = jnp.array([0,1,2])\n",
    "receivers = jnp.array([1,2,3])\n",
    "\n",
    "# You can optionally add edge attributes.\n",
    "edges = jnp.array([[5.], [6.], [7.]]) ##Edge weights? Will be useful when definiing Francois' weight assignment\n",
    "\n",
    "# We then save the number of nodes and the number of edges.\n",
    "# This information is used to make running GNNs over multiple graphs\n",
    "# in a GraphsTuple possible.\n",
    "\n",
    "n_node = jnp.array([3])\n",
    "n_edge = jnp.array([3])\n",
    "\n",
    "# Optionally you can add `global` information, such as a graph label.\n",
    "\n",
    "global_context = jnp.array([[1]]) # Same feature dimensions as nodes and edges.\n",
    "graph = jraph.GraphsTuple(nodes  = node_features, senders = senders, receivers = receivers,\n",
    "                         edges = edges, n_node = n_node, n_edge = n_edge, globals = global_context)\n",
    "\n"
   ]
  },
  {
   "cell_type": "code",
   "execution_count": 5,
   "id": "481cee13",
   "metadata": {},
   "outputs": [],
   "source": [
    "#A GraphsTuple can have more than one graph.\n",
    "two_graph_graphstuple = jraph.batch([graph,graph])"
   ]
  },
  {
   "cell_type": "code",
   "execution_count": 6,
   "id": "dc4f6a86",
   "metadata": {},
   "outputs": [
    {
     "data": {
      "text/plain": [
       "DeviceArray([[0.],\n",
       "             [1.],\n",
       "             [2.],\n",
       "             [0.],\n",
       "             [1.],\n",
       "             [2.]], dtype=float32)"
      ]
     },
     "execution_count": 6,
     "metadata": {},
     "output_type": "execute_result"
    }
   ],
   "source": [
    "#The node and edge features are stacked on the leading axis.\n",
    "jraph.batch([graph,graph]).nodes"
   ]
  },
  {
   "cell_type": "code",
   "execution_count": 8,
   "id": "6f945bc6",
   "metadata": {},
   "outputs": [
    {
     "data": {
      "text/plain": [
       "DeviceArray([3, 3], dtype=int32)"
      ]
     },
     "execution_count": 8,
     "metadata": {},
     "output_type": "execute_result"
    }
   ],
   "source": [
    "#You can tell which nodes are from which graph by looking at n_node.\n",
    "jraph.batch([graph,graph]).n_node"
   ]
  },
  {
   "cell_type": "code",
   "execution_count": 9,
   "id": "7f1a0608",
   "metadata": {},
   "outputs": [],
   "source": [
    "node_targets = jnp.array([[True],[False],[True]])\n",
    "graph = graph._replace(nodes ={'inputs' : graph.nodes, 'targets' : node_targets})"
   ]
  },
  {
   "cell_type": "markdown",
   "id": "31ed33d2",
   "metadata": {},
   "source": [
    "<h2> Model Zoo\n",
    "    </h2>"
   ]
  },
  {
   "cell_type": "code",
   "execution_count": 10,
   "id": "e8e7b2ee",
   "metadata": {},
   "outputs": [],
   "source": [
    "# As one example, we just pass the edge features straight through.\n",
    "def update_edge_fn(edge, sender, receiver, globals_):\n",
    "    return edge"
   ]
  },
  {
   "cell_type": "code",
   "execution_count": 19,
   "id": "137c8242",
   "metadata": {},
   "outputs": [],
   "source": [
    "@jraph.concatenated_args\n",
    "def update_edge_fn(concatenated_features):\n",
    "    return concatenated_features\n",
    "\n",
    "def update_node_fn(nodes, sent_attributes, received_attributes, global_attributes):\n",
    "    return nodes\n",
    "\n",
    "def update_global_fn(concatenated_features):\n",
    "    return concatenated_features"
   ]
  },
  {
   "cell_type": "code",
   "execution_count": 20,
   "id": "16fb1732",
   "metadata": {},
   "outputs": [],
   "source": [
    "net = jraph.GraphNetwork(update_edge_fn=update_edge_fn,\n",
    "                        update_node_fn=update_node_fn,\n",
    "                        update_global_fn=update_global_fn)"
   ]
  },
  {
   "cell_type": "code",
   "execution_count": 21,
   "id": "d5284389",
   "metadata": {},
   "outputs": [
    {
     "ename": "NameError",
     "evalue": "name 'node' is not defined",
     "output_type": "error",
     "traceback": [
      "\u001b[0;31m---------------------------------------------------------------------------\u001b[0m",
      "\u001b[0;31mNameError\u001b[0m                                 Traceback (most recent call last)",
      "\u001b[0;32m/tmp/ipykernel_7405/2789475421.py\u001b[0m in \u001b[0;36m<module>\u001b[0;34m\u001b[0m\n\u001b[0;32m----> 1\u001b[0;31m \u001b[0mupdated_graph\u001b[0m \u001b[0;34m=\u001b[0m \u001b[0mnet\u001b[0m\u001b[0;34m(\u001b[0m\u001b[0mgraph\u001b[0m\u001b[0;34m)\u001b[0m\u001b[0;34m\u001b[0m\u001b[0;34m\u001b[0m\u001b[0m\n\u001b[0m",
      "\u001b[0;32m~/anaconda3/envs/TIN-env/lib/python3.7/site-packages/jraph/_src/models.py\u001b[0m in \u001b[0;36m_ApplyGraphNet\u001b[0;34m(graph)\u001b[0m\n\u001b[1;32m    206\u001b[0m           g, n_node, axis=0, total_repeat_length=sum_n_node), globals_)\n\u001b[1;32m    207\u001b[0m       nodes = update_node_fn(nodes, sent_attributes,\n\u001b[0;32m--> 208\u001b[0;31m                              received_attributes, global_attributes)\n\u001b[0m\u001b[1;32m    209\u001b[0m \u001b[0;34m\u001b[0m\u001b[0m\n\u001b[1;32m    210\u001b[0m     \u001b[0;32mif\u001b[0m \u001b[0mupdate_global_fn\u001b[0m\u001b[0;34m:\u001b[0m\u001b[0;34m\u001b[0m\u001b[0;34m\u001b[0m\u001b[0m\n",
      "\u001b[0;32m/tmp/ipykernel_7405/3168923486.py\u001b[0m in \u001b[0;36mupdate_node_fn\u001b[0;34m(nodes, sent_attributes, received_attributes, global_attributes)\u001b[0m\n\u001b[1;32m      4\u001b[0m \u001b[0;34m\u001b[0m\u001b[0m\n\u001b[1;32m      5\u001b[0m \u001b[0;32mdef\u001b[0m \u001b[0mupdate_node_fn\u001b[0m\u001b[0;34m(\u001b[0m\u001b[0mnodes\u001b[0m\u001b[0;34m,\u001b[0m \u001b[0msent_attributes\u001b[0m\u001b[0;34m,\u001b[0m \u001b[0mreceived_attributes\u001b[0m\u001b[0;34m,\u001b[0m \u001b[0mglobal_attributes\u001b[0m\u001b[0;34m)\u001b[0m\u001b[0;34m:\u001b[0m\u001b[0;34m\u001b[0m\u001b[0;34m\u001b[0m\u001b[0m\n\u001b[0;32m----> 6\u001b[0;31m     \u001b[0;32mreturn\u001b[0m \u001b[0mnode\u001b[0m\u001b[0;34m\u001b[0m\u001b[0;34m\u001b[0m\u001b[0m\n\u001b[0m\u001b[1;32m      7\u001b[0m \u001b[0;34m\u001b[0m\u001b[0m\n\u001b[1;32m      8\u001b[0m \u001b[0;32mdef\u001b[0m \u001b[0mupdate_global_fn\u001b[0m\u001b[0;34m(\u001b[0m\u001b[0mconcatenated_features\u001b[0m\u001b[0;34m)\u001b[0m\u001b[0;34m:\u001b[0m\u001b[0;34m\u001b[0m\u001b[0;34m\u001b[0m\u001b[0m\n",
      "\u001b[0;31mNameError\u001b[0m: name 'node' is not defined"
     ]
    }
   ],
   "source": [
    "updated_graph = net(graph)"
   ]
  }
 ],
 "metadata": {
  "kernelspec": {
   "display_name": "Python 3 (ipykernel)",
   "language": "python",
   "name": "python3"
  },
  "language_info": {
   "codemirror_mode": {
    "name": "ipython",
    "version": 3
   },
   "file_extension": ".py",
   "mimetype": "text/x-python",
   "name": "python",
   "nbconvert_exporter": "python",
   "pygments_lexer": "ipython3",
   "version": "3.7.10"
  }
 },
 "nbformat": 4,
 "nbformat_minor": 5
}
